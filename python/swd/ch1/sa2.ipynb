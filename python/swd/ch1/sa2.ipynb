{
 "cells": [
  {
   "cell_type": "code",
   "execution_count": 3,
   "metadata": {},
   "outputs": [
    {
     "name": "stdout",
     "output_type": "stream",
     "text": [
      "2\n"
     ]
    }
   ],
   "source": [
    "A = [[1, 1],\n",
    "     [2, 4]]\n",
    "\n",
    "print(A[1][0])"
   ]
  },
  {
   "cell_type": "code",
   "execution_count": 5,
   "metadata": {},
   "outputs": [],
   "source": [
    "def matmul(A, B):\n",
    "    assert(len(A[0]) == len(B))\n",
    "    N, K, M = len(A), len(A[0]), len(B[0])\n",
    "    C = [[0 for m in range(M)] for n in range(N)]\n",
    "    for n in range(N):\n",
    "        for m in range(M):\n",
    "            C[n][m] = sum([A[n][k] * B[k][m] for k in range(K)])\n",
    "    return C\n",
    "\n"
   ]
  },
  {
   "cell_type": "code",
   "execution_count": 11,
   "metadata": {},
   "outputs": [],
   "source": [
    "import random\n",
    "\n",
    "A = [[1/1.414, -1/1.414],\n",
    "     [1/1.414, 1/1.414]]\n",
    "\n",
    "points = []\n",
    "for _ in range(10):\n",
    "    x1 = random.uniform(-0.6, 0.6)\n",
    "    x2 = random.uniform(-0.6, 0.6)\n",
    "    x = [[x1],\n",
    "         [x2]]\n",
    "\n",
    "new_points = []\n",
    "for x in points:\n",
    "    new_points.append(matmul(A, x))"
   ]
  },
  {
   "cell_type": "code",
   "execution_count": 12,
   "metadata": {},
   "outputs": [
    {
     "data": {
      "image/png": "[encoded data removed]",
      "text/plain": [
       "<Figure size 720x288 with 2 Axes>"
      ]
     },
     "metadata": {
      "needs_background": "light"
     },
     "output_type": "display_data"
    }
   ],
   "source": [
    "import matplotlib.pyplot as plt\n",
    "\n",
    "fig = plt.figure(figsize=(10, 4))\n",
    "subplot = fig.add_subplot(1, 2, 1)\n",
    "xs = [x for x, y in points]\n",
    "ys = [y for x, y in points]\n",
    "subplot.scatter(xs, ys)\n",
    "subplot.set_xlim((-1, 1))\n",
    "subplot.set_ylim((-1, 1))\n",
    "subplot.set_aspect('equal')\n",
    "\n",
    "subplot = fig.add_subplot(1, 2, 2)\n",
    "xs = [x for x, y in new_points]\n",
    "ys = [y for x, y in new_points]\n",
    "subplot.scatter(xs, ys)\n",
    "subplot.set_xlim((-1, 1))\n",
    "subplot.set_ylim((-1, 1))\n",
    "subplot.set_aspect('equal')"
   ]
  }
 ],
 "metadata": {
  "kernelspec": {
   "display_name": "Python 3",
   "language": "python",
   "name": "python3"
  },
  "language_info": {
   "codemirror_mode": {
    "name": "ipython",
    "version": 3
   },
   "file_extension": ".py",
   "mimetype": "text/x-python",
   "name": "python",
   "nbconvert_exporter": "python",
   "pygments_lexer": "ipython3",
   "version": "3.10.6"
  },
  "orig_nbformat": 4
 },
 "nbformat": 4,
 "nbformat_minor": 2
}
