{
 "cells": [
  {
   "cell_type": "code",
   "execution_count": 7,
   "metadata": {},
   "outputs": [],
   "source": [
    "import torch\n",
    "from torch import nn, optim\n",
    "from torch.utils.data import (Dataset, DataLoader, TensorDataset)\n",
    "import tqdm\n",
    "from torchvision.datasets import FashionMNIST\n",
    "from torchvision import transforms\n",
    "\n",
    "#訓練用のデータを取得\n",
    "#そのままだとPIL(Python Imaging Library)の画像形式で\n",
    "#Datasetを作ってしまうので，\n",
    "#transforms.ToTensorでTensorに変換する\n",
    "fashion_mnist_train = FashionMNIST(\"~/Program_Practice/python/Pytorch/4/FashionMNIST\", train=True, download=True, transform=transforms.ToTensor())\n",
    "#検証用データの取得\n",
    "fashion_mnist_test = FashionMNIST(\"~/Program_Practice/python/Pytorch/4/FashionMNIST\", train=False, download=True, transform=transforms.ToTensor())\n",
    "\n",
    "#バッチサイズが128のDataLoaderをそれぞれ作成\n",
    "batch_size=128\n",
    "train_loader = DataLoader(fashion_mnist_train, batch_size=batch_size, shuffle=True)\n",
    "test_loader = DataLoader(fashion_mnist_test, batch_size=batch_size, shuffle=False)"
   ]
  },
  {
   "cell_type": "code",
   "execution_count": null,
   "metadata": {},
   "outputs": [],
   "source": [
    "#(N, C, H, W)形式のTensorを(N, C*H*W)に引き伸ばす層\n",
    "#畳み込み層の出力をMLPに渡す際に必要\n",
    "class FlattenLayer(nn.Module):\n",
    "    def forward(self, x):\n",
    "        sizes = x.size()\n",
    "        return x.view(sizes[0], -1)\n",
    "\n",
    "#5×5のカーネルを使用して，最初に32個，次に64個のチャンネルを作成する\n",
    "#BatchNorm2dは画像形式用のBatch Normalization\n",
    "#最後にFlattenLayerを挟む\n",
    "conv_net = nn.Sequential(\n",
    "    nn.Conv2d(1, 32, 5),\n",
    "    nn.MaxPool2d(2),\n",
    "    nn.ReLU(),\n",
    "    nn.BatchNorm2d(32),\n",
    "    nn.Dropout2d(0.25),\n",
    "    nn.Conv2d(2),\n",
    "    nn.ReLU(),\n",
    "    nn.BatchNorm2d(64),\n",
    "    nn.Dropout2d(0.25),\n",
    "    FlattenLayer()\n",
    ")\n",
    "\n",
    "#畳み込みによって最終的にどのようなサイズになっているかを，\n",
    "#実際にダミーデータを入れてみて確認する\n",
    "text_input = torch.ones(1, 1, 28, 28)\n",
    "conv_output_size = conv_net(test_input).size()[-1]\n",
    "\n",
    "#2層のMLP\n",
    "mlp = nn.Sequential(\n",
    "    nn.Linear(conv_output_size, 200),\n",
    "    nn.ReLU(),\n",
    "    nn.BatchNormld(200),\n",
    "    nn.Dropout(0.25),\n",
    "    nn.Linear(200, 10)\n",
    ")\n",
    "\n",
    "#最終的なCNN\n",
    "net = nn.Sequential(\n",
    "    conv_net,\n",
    "    mlp\n",
    ")"
   ]
  }
 ],
 "metadata": {
  "kernelspec": {
   "display_name": "Python 3",
   "language": "python",
   "name": "python3"
  },
  "language_info": {
   "codemirror_mode": {
    "name": "ipython",
    "version": 3
   },
   "file_extension": ".py",
   "mimetype": "text/x-python",
   "name": "python",
   "nbconvert_exporter": "python",
   "pygments_lexer": "ipython3",
   "version": "3.10.6"
  },
  "orig_nbformat": 4
 },
 "nbformat": 4,
 "nbformat_minor": 2
}
