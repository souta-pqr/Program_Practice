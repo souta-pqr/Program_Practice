{
 "cells": [
  {
   "cell_type": "code",
   "execution_count": 19,
   "metadata": {},
   "outputs": [
    {
     "name": "stdout",
     "output_type": "stream",
     "text": [
      "tensor([[ 1.0000,  0.0591, -1.0963],\n",
      "        [ 1.0000,  0.1739, -0.7550],\n",
      "        [ 1.0000,  0.8675, -1.4046],\n",
      "        [ 1.0000,  0.7310, -0.0539],\n",
      "        [ 1.0000, -0.3254, -0.2894],\n",
      "        [ 1.0000, -2.0630, -0.6665],\n",
      "        [ 1.0000,  0.3127, -0.7356],\n",
      "        [ 1.0000, -0.4272, -1.2054],\n",
      "        [ 1.0000,  0.3542,  0.9230],\n",
      "        [ 1.0000, -0.4201, -0.3244],\n",
      "        [ 1.0000, -0.3967, -0.1058],\n",
      "        [ 1.0000, -0.7417, -0.1882],\n",
      "        [ 1.0000,  0.4806,  1.5307],\n",
      "        [ 1.0000, -0.1721, -1.0109],\n",
      "        [ 1.0000, -0.9517,  1.5880],\n",
      "        [ 1.0000, -0.2916,  1.7903],\n",
      "        [ 1.0000,  1.4846, -0.5393],\n",
      "        [ 1.0000,  1.4299,  0.2495],\n",
      "        [ 1.0000, -0.4279, -0.6436],\n",
      "        [ 1.0000, -1.1389, -0.1695],\n",
      "        [ 1.0000,  1.8602, -0.4556],\n",
      "        [ 1.0000, -0.5140, -0.1561],\n",
      "        [ 1.0000, -1.3104,  0.6599],\n",
      "        [ 1.0000, -0.6956, -0.0526],\n",
      "        [ 1.0000,  0.1437, -0.3219],\n",
      "        [ 1.0000,  0.0201, -1.6160],\n",
      "        [ 1.0000,  1.1009,  0.2396],\n",
      "        [ 1.0000, -0.4038,  0.5036],\n",
      "        [ 1.0000,  0.8698,  1.3037],\n",
      "        [ 1.0000,  1.3126, -0.6120],\n",
      "        [ 1.0000, -0.2067, -1.6328],\n",
      "        [ 1.0000, -1.0047,  1.7910],\n",
      "        [ 1.0000, -1.7073, -0.0875],\n",
      "        [ 1.0000,  2.0266,  1.8647],\n",
      "        [ 1.0000, -0.3388,  0.5944],\n",
      "        [ 1.0000, -0.7708, -0.7867],\n",
      "        [ 1.0000,  0.3477, -0.1946],\n",
      "        [ 1.0000,  1.1365, -0.2143],\n",
      "        [ 1.0000,  0.7110,  0.1803],\n",
      "        [ 1.0000, -1.6569, -0.3364],\n",
      "        [ 1.0000, -0.5397,  1.0936],\n",
      "        [ 1.0000,  0.3231, -0.3297],\n",
      "        [ 1.0000, -0.1891, -1.2616],\n",
      "        [ 1.0000, -0.3972, -0.1265],\n",
      "        [ 1.0000, -0.3937, -0.3863],\n",
      "        [ 1.0000,  0.5634, -0.3127],\n",
      "        [ 1.0000,  1.2139, -0.2577],\n",
      "        [ 1.0000,  0.8126,  1.0174],\n",
      "        [ 1.0000,  1.5670, -0.4452],\n",
      "        [ 1.0000, -1.8379,  1.3796],\n",
      "        [ 1.0000, -1.1164,  0.6047],\n",
      "        [ 1.0000, -0.7731, -0.4790],\n",
      "        [ 1.0000,  0.0707, -1.2128],\n",
      "        [ 1.0000,  0.1368,  0.7226],\n",
      "        [ 1.0000, -0.4311, -0.1966],\n",
      "        [ 1.0000,  0.0790, -0.2501],\n",
      "        [ 1.0000,  1.9539, -1.2788],\n",
      "        [ 1.0000,  0.0413, -0.6391],\n",
      "        [ 1.0000,  0.1623, -0.4194],\n",
      "        [ 1.0000,  0.1723, -2.3890],\n",
      "        [ 1.0000, -1.3250,  0.5354],\n",
      "        [ 1.0000,  0.2126,  0.9840],\n",
      "        [ 1.0000,  0.6198, -0.8845],\n",
      "        [ 1.0000,  0.2034, -0.2908],\n",
      "        [ 1.0000, -0.4647, -0.0959],\n",
      "        [ 1.0000, -0.7220,  0.2510],\n",
      "        [ 1.0000,  1.9472, -0.0776],\n",
      "        [ 1.0000, -0.2407, -1.0591],\n",
      "        [ 1.0000, -1.2151, -1.6430],\n",
      "        [ 1.0000,  1.4848, -0.5957],\n",
      "        [ 1.0000, -0.1463,  0.5780],\n",
      "        [ 1.0000, -0.8598,  0.0979],\n",
      "        [ 1.0000, -0.6525, -0.3023],\n",
      "        [ 1.0000,  0.8794, -0.0303],\n",
      "        [ 1.0000, -0.3637,  0.3313],\n",
      "        [ 1.0000, -1.1667,  0.2737],\n",
      "        [ 1.0000,  1.3894, -0.8614],\n",
      "        [ 1.0000,  0.1631,  1.1777],\n",
      "        [ 1.0000, -0.5714, -1.5028],\n",
      "        [ 1.0000, -0.6499,  1.6347],\n",
      "        [ 1.0000, -1.3243,  0.1893],\n",
      "        [ 1.0000,  1.9933,  0.7492],\n",
      "        [ 1.0000,  0.7637,  1.0939],\n",
      "        [ 1.0000,  0.5314,  0.3413],\n",
      "        [ 1.0000,  1.8683,  0.8420],\n",
      "        [ 1.0000, -1.4925,  0.7194],\n",
      "        [ 1.0000, -1.2483,  0.0624],\n",
      "        [ 1.0000, -0.2923,  1.3244],\n",
      "        [ 1.0000, -1.8142, -0.3415],\n",
      "        [ 1.0000, -0.9002,  0.1611],\n",
      "        [ 1.0000, -0.6082, -0.4999],\n",
      "        [ 1.0000, -0.7324,  0.4110],\n",
      "        [ 1.0000, -0.4936,  1.0824],\n",
      "        [ 1.0000, -0.1181, -1.7361],\n",
      "        [ 1.0000, -2.3757,  0.0624],\n",
      "        [ 1.0000, -0.7522, -0.7633],\n",
      "        [ 1.0000, -0.1674, -0.7430],\n",
      "        [ 1.0000, -0.2919, -0.9860],\n",
      "        [ 1.0000,  0.8828,  0.6106],\n",
      "        [ 1.0000, -1.0364,  1.5203]])\n",
      "tensor([-1.9529, -0.0449, -1.8463,  1.9387, -0.3531, -5.0786, -0.4542, -2.9130,\n",
      "         3.8205, -0.6050,  0.2136, -0.8007,  6.6357, -2.5632,  3.4073,  6.5114,\n",
      "         1.8533,  4.3006, -2.0796, -1.7124,  3.9091, -0.7048, -0.1444,  0.3082,\n",
      "         0.2022, -3.9777,  3.6215,  2.5945,  6.2200,  1.7983, -3.4974,  4.2483,\n",
      "        -2.3432, 10.5522,  2.6852, -2.5367,  1.2574,  2.7150,  1.6662, -2.9231,\n",
      "         3.2314,  0.9566, -3.6939,  0.2525, -1.8257,  0.6407,  2.1103,  6.5595,\n",
      "         3.1799,  1.9629,  0.6164, -1.5076, -2.7458,  3.1673, -0.4960,  1.4135,\n",
      "         1.1805, -0.4109, -0.1095, -5.6097,  0.9351,  3.5869, -1.0881, -0.3236,\n",
      "        -0.5317,  1.7585,  5.1690, -2.3660, -6.0332,  2.0097,  2.3552,  0.4505,\n",
      "        -1.6161,  2.4311,  1.9688, -0.5931,  1.5460,  4.6776, -5.0579,  4.0863,\n",
      "        -1.9688,  7.5457,  4.6970,  3.3029,  7.6704,  0.1038, -1.6167,  4.8546,\n",
      "        -3.5547, -1.2762, -1.1013,  0.8524,  4.0375, -4.3846, -3.2439, -2.3765,\n",
      "        -0.9085, -2.6997,  4.8457,  3.5020])\n"
     ]
    }
   ],
   "source": [
    "import torch\n",
    "\n",
    "#真の係数\n",
    "w_true = torch.Tensor([1, 2, 3])\n",
    "\n",
    "#Xのデータの準備．切片を回帰係数に含めるため，\n",
    "#Xの最初の次元に1を追加しておく\n",
    "X = torch.cat([torch.ones(100, 1), torch.randn(100, 2)], 1)\n",
    "print(X)\n",
    "\n",
    "#真の係数と各Xとの内積を行列とベクトルの積でまとめて計算\n",
    "y = torch.mv(X, w_true) + torch.randn(100) * 0.5\n",
    "print(y)\n",
    "\n",
    "#勾配降下で最適化するためのパラメータのTensorを\n",
    "#乱数で初期化して作成\n",
    "w = torch.randn(3, requires_grad=True)\n",
    "\n",
    "#学習率\n",
    "gamma = 0.1"
   ]
  },
  {
   "cell_type": "code",
   "execution_count": 20,
   "metadata": {},
   "outputs": [],
   "source": [
    "#損失関数のログ\n",
    "losses = []\n",
    "\n",
    "#100回イテレーションを回す\n",
    "for epoc in range(100):\n",
    "    #前回のbackwardメソッドで計算された勾配の値を削除\n",
    "    w.grad = None\n",
    "\n",
    "    #線形モデルでyの予測値を計算\n",
    "    y_pred = torch.mv(X, w)\n",
    "\n",
    "    #MSE lossとwによる微分を計算\n",
    "    loss = torch.mean((y-y_pred)**2)\n",
    "    loss.backward()\n",
    "\n",
    "    #勾配を更新する\n",
    "    #wをそのまま代入して更新すると異なるTensorになって\n",
    "    #計算グラフが破壊されてしまうので，dataだけを更新する\n",
    "    w.data = w.data - gamma * w.grad.data\n",
    "\n",
    "    #収束確認のためにlossを記録しておく\n",
    "    losses.append(loss.item())"
   ]
  },
  {
   "cell_type": "code",
   "execution_count": 21,
   "metadata": {},
   "outputs": [
    {
     "data": {
      "text/plain": [
       "[<matplotlib.lines.Line2D at 0x7f0aae1ca8f0>]"
      ]
     },
     "execution_count": 21,
     "metadata": {},
     "output_type": "execute_result"
    },
    {
     "data": {
      "image/png": "[encoded data removed]",
      "text/plain": [
       "<Figure size 432x288 with 1 Axes>"
      ]
     },
     "metadata": {
      "needs_background": "light"
     },
     "output_type": "display_data"
    }
   ],
   "source": [
    "%matplotlib inline\n",
    "from matplotlib import pyplot as plt\n",
    "plt.plot(losses)"
   ]
  },
  {
   "cell_type": "code",
   "execution_count": 24,
   "metadata": {},
   "outputs": [
    {
     "data": {
      "text/plain": [
       "tensor([1.0513, 1.9345, 2.9696], requires_grad=True)"
      ]
     },
     "execution_count": 24,
     "metadata": {},
     "output_type": "execute_result"
    }
   ],
   "source": [
    "w"
   ]
  },
  {
   "cell_type": "code",
   "execution_count": 26,
   "metadata": {},
   "outputs": [],
   "source": [
    "from torch import nn, optim\n",
    "\n",
    "#Linear層を作成．今回は切片項は回帰係数に含めるので\n",
    "#入力の次元は3とし，bias(切片)をFalseにする\n",
    "net = nn.Linear(in_features=3, out_features=1, bias=False)\n",
    "\n",
    "#SGDのオプティマイザーに上で定義したネットワークの\n",
    "#パラメータを渡して初期化\n",
    "optimizer = optim.SGD(net.parameters(), lr=0.1)\n",
    "\n",
    "#MSE lossクラス\n",
    "loss_fn = nn.MSELoss()"
   ]
  },
  {
   "cell_type": "code",
   "execution_count": 28,
   "metadata": {},
   "outputs": [],
   "source": [
    "losses = []\n",
    "\n",
    "#100回のイテレーションを回す\n",
    "for epoc in range(100):\n",
    "    #前回のbackwardメソッドで計算された勾配の値を削除\n",
    "    optimizer.zero_grad()\n",
    "\n",
    "    #線形モデルでyの予測値を計算\n",
    "    y_pred = net(X)\n",
    "\n",
    "    #MSE lossを計算\n",
    "    #y_predは(n,1)のようなshapeを持っているので，(n,)に直す必要がある\n",
    "    loss = loss_fn(y_pred.view_as(y), y)\n",
    "\n",
    "    #lossのwによる微分を計算\n",
    "    loss.backward()\n",
    "\n",
    "    #勾配を更新する\n",
    "    optimizer.step()\n",
    "\n",
    "    #収束確認のためにlossを記録しておく\n",
    "    losses.append(loss.item())"
   ]
  },
  {
   "cell_type": "code",
   "execution_count": 30,
   "metadata": {},
   "outputs": [
    {
     "data": {
      "text/plain": [
       "[Parameter containing:\n",
       " tensor([[1.0513, 1.9345, 2.9696]], requires_grad=True)]"
      ]
     },
     "execution_count": 30,
     "metadata": {},
     "output_type": "execute_result"
    }
   ],
   "source": [
    "list(net.parameters())"
   ]
  }
 ],
 "metadata": {
  "kernelspec": {
   "display_name": "Python 3",
   "language": "python",
   "name": "python3"
  },
  "language_info": {
   "codemirror_mode": {
    "name": "ipython",
    "version": 3
   },
   "file_extension": ".py",
   "mimetype": "text/x-python",
   "name": "python",
   "nbconvert_exporter": "python",
   "pygments_lexer": "ipython3",
   "version": "3.10.6"
  },
  "orig_nbformat": 4
 },
 "nbformat": 4,
 "nbformat_minor": 2
}
