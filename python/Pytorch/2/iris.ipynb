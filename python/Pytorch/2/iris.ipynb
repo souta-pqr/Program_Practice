{
 "cells": [
  {
   "cell_type": "code",
   "execution_count": 3,
   "metadata": {},
   "outputs": [],
   "source": [
    "import torch\n",
    "from torch import nn, optim\n",
    "from sklearn.datasets import load_iris\n",
    "iris = load_iris()\n",
    "\n",
    "#irisは(0,1,2)の3クラスの分類問題なのでここでは\n",
    "#(0,1)の2クラス分のデータだけを使用する\n",
    "#本来は訓練用とテスト用に分けるべきだがここでは省略\n",
    "X = iris.data[:100]\n",
    "y = iris.target[:100]\n",
    "\n",
    "#NumpyのndarrayをPyTorchのTensorに変換\n",
    "X = torch.tensor(X, dtype=torch.float32)\n",
    "y = torch.tensor(y, dtype=torch.float32)"
   ]
  },
  {
   "cell_type": "code",
   "execution_count": 4,
   "metadata": {},
   "outputs": [],
   "source": [
    "net = nn.Linear(4, 1)\n",
    "\n",
    "#シグモイド関数を作用させ，２クラス分類の，\n",
    "#クロスエントロピーを計算する関数\n",
    "loss_fn = nn.BCEWithLogitsLoss()\n",
    "\n",
    "#SGD（少し大きめの学習率）\n",
    "optimizer = optim.SGD(net.parameters(), lr=0.25)"
   ]
  },
  {
   "cell_type": "code",
   "execution_count": 5,
   "metadata": {},
   "outputs": [],
   "source": [
    "#損失関数のログ\n",
    "losses = []\n",
    "\n",
    "#100回イテレーションを回す\n",
    "for epoc in range(100):\n",
    "    #前回のbackwardメソッドで計算された勾配の値を削除\n",
    "    optimizer.zero_grad()\n",
    "\n",
    "    #線形モデルでyの予測値を計算\n",
    "    y_pred = net(X)\n",
    "\n",
    "    #MSE lossとwによる微分を計算\n",
    "    loss = loss_fn(y_pred.view_as(y), y)\n",
    "    loss.backward()\n",
    "\n",
    "    #勾配を更新する\n",
    "    optimizer.step()\n",
    "\n",
    "    #収束確認のためにlossを記録しておく\n",
    "    losses.append(loss.item())"
   ]
  },
  {
   "cell_type": "code",
   "execution_count": 6,
   "metadata": {},
   "outputs": [
    {
     "data": {
      "text/plain": [
       "[<matplotlib.lines.Line2D at 0x7f334cec5690>]"
      ]
     },
     "execution_count": 6,
     "metadata": {},
     "output_type": "execute_result"
    },
    {
     "data": {
      "image/png": "[encoded data removed]",
      "text/plain": [
       "<Figure size 432x288 with 1 Axes>"
      ]
     },
     "metadata": {
      "needs_background": "light"
     },
     "output_type": "display_data"
    }
   ],
   "source": [
    "from matplotlib import pyplot as plt\n",
    "plt.plot(losses)"
   ]
  },
  {
   "cell_type": "code",
   "execution_count": 7,
   "metadata": {},
   "outputs": [
    {
     "data": {
      "text/plain": [
       "100"
      ]
     },
     "execution_count": 7,
     "metadata": {},
     "output_type": "execute_result"
    }
   ],
   "source": [
    "#線形結合の結果\n",
    "h = net(X)\n",
    "\n",
    "#シグモイド関数を作用させた結果はy=1の確率を表す\n",
    "prob = nn.functional.sigmoid(h)\n",
    "\n",
    "#確率が0.5以上のものをクラス1と予想し，それ以外を0とする\n",
    "#PyTorchにはBool型がないので対応する型として，ByteTensorが出力される\n",
    "y_pred = prob > 0.5\n",
    "\n",
    "#予測結果の確認（yはFloatTensorなのでByteTensorに変換してから比較する）\n",
    "(y.byte() == y_pred.view_as(y)).sum().item()"
   ]
  },
  {
   "cell_type": "code",
   "execution_count": 13,
   "metadata": {},
   "outputs": [
    {
     "name": "stdout",
     "output_type": "stream",
     "text": [
      "Linear(in_features=64, out_features=10, bias=True)\n"
     ]
    }
   ],
   "source": [
    "from sklearn.datasets import load_digits\n",
    "digits = load_digits()\n",
    "\n",
    "X = digits.data\n",
    "y = digits.target\n",
    "\n",
    "X = torch.tensor(X, dtype=torch.float32)\n",
    "#CrossEntropyLoss関数はyとしてint64型のTensorを受け釣るので注意\n",
    "y = torch.tensor(y, dtype=torch.int64)\n",
    "\n",
    "#出力は10(クラス数)次元\n",
    "net = nn.Linear(X.size()[1], 10)\n",
    "\n",
    "print(net)\n",
    "\n",
    "#ソフトマックスクロスエントロピー\n",
    "loss_fn = nn.CrossEntropyLoss()\n",
    "\n",
    "#SGD\n",
    "optimizer = optim.SGD(net.parameters(), lr=0.01)"
   ]
  },
  {
   "cell_type": "code",
   "execution_count": 15,
   "metadata": {},
   "outputs": [],
   "source": [
    "#損失関数のログ\n",
    "losses = []\n",
    "\n",
    "#100回のイテレーションを回す\n",
    "for epoc in range(100):\n",
    "    #前回のbackwardメソッドで計算された勾配の値を削除\n",
    "    optimizer.zero_grad()\n",
    "\n",
    "    #線形モデルでyの予測値を計算\n",
    "    y_pred = net(X)\n",
    "\n",
    "    #MSE lossとwによる微分を計算\n",
    "    loss = loss_fn(y_pred, y)\n",
    "    loss.backward()\n",
    "\n",
    "    #勾配を更新する\n",
    "    optimizer.step()\n",
    "\n",
    "    #収束確認のためにlossを記録しておく\n",
    "    losses.append(loss.item())"
   ]
  },
  {
   "cell_type": "code",
   "execution_count": 18,
   "metadata": {},
   "outputs": [
    {
     "data": {
      "text/plain": [
       "0.9382303839732888"
      ]
     },
     "execution_count": 18,
     "metadata": {},
     "output_type": "execute_result"
    }
   ],
   "source": [
    "#torch.maxは集計軸を指定すると，最大値のほかにその位置も返す\n",
    "_, y_pred = torch.max(net(X), 1)\n",
    "\n",
    "#正解値を計算する\n",
    "(y_pred == y).sum().item() / len(y)"
   ]
  }
 ],
 "metadata": {
  "kernelspec": {
   "display_name": "Python 3",
   "language": "python",
   "name": "python3"
  },
  "language_info": {
   "codemirror_mode": {
    "name": "ipython",
    "version": 3
   },
   "file_extension": ".py",
   "mimetype": "text/x-python",
   "name": "python",
   "nbconvert_exporter": "python",
   "pygments_lexer": "ipython3",
   "version": "3.10.6"
  },
  "orig_nbformat": 4
 },
 "nbformat": 4,
 "nbformat_minor": 2
}
