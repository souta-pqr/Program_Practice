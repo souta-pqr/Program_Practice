{
 "cells": [
  {
   "cell_type": "code",
   "execution_count": 1,
   "metadata": {},
   "outputs": [
    {
     "data": {
      "text/plain": [
       "'Hello'"
      ]
     },
     "execution_count": 1,
     "metadata": {},
     "output_type": "execute_result"
    }
   ],
   "source": [
    "def greeting(greeting_local):\n",
    "    return greeting_local\n",
    "\n",
    "greeting(\"Hello\")"
   ]
  },
  {
   "cell_type": "code",
   "execution_count": 3,
   "metadata": {},
   "outputs": [
    {
     "data": {
      "text/plain": [
       "5.0"
      ]
     },
     "execution_count": 3,
     "metadata": {},
     "output_type": "execute_result"
    }
   ],
   "source": [
    "def average(nums):\n",
    "    return sum(nums)/len(nums)\n",
    "\n",
    "average([1, 3, 5, 7, 9])"
   ]
  },
  {
   "cell_type": "code",
   "execution_count": 5,
   "metadata": {},
   "outputs": [
    {
     "name": "stdout",
     "output_type": "stream",
     "text": [
      "Hi, Salut, Hallo\n"
     ]
    }
   ],
   "source": [
    "def greeting(en, fr, de):\n",
    "    print(en + ', ' + fr + ', ' + de)\n",
    "\n",
    "greeting(en=\"Hi\", fr=\"Salut\", de=\"Hallo\")"
   ]
  },
  {
   "cell_type": "code",
   "execution_count": 7,
   "metadata": {},
   "outputs": [
    {
     "name": "stdout",
     "output_type": "stream",
     "text": [
      "HelloHelloHello,World\n"
     ]
    }
   ],
   "source": [
    "def greeting(en, number, name):\n",
    "    print(en*number + ',' + name)\n",
    "\n",
    "greeting('Hello', 3, 'World')"
   ]
  },
  {
   "cell_type": "code",
   "execution_count": 9,
   "metadata": {},
   "outputs": [
    {
     "name": "stdout",
     "output_type": "stream",
     "text": [
      "('Hello', 'palmon', 'world')\n"
     ]
    }
   ],
   "source": [
    "def greeting(*args):\n",
    "    print(args)\n",
    "\n",
    "greeting('Hello', 'palmon', 'world') # taple type"
   ]
  },
  {
   "cell_type": "code",
   "execution_count": 11,
   "metadata": {},
   "outputs": [
    {
     "name": "stdout",
     "output_type": "stream",
     "text": [
      "{'en': 'Hello', 'fr': 'Bonjour', 'de': 'Guten Tag'}\n"
     ]
    }
   ],
   "source": [
    "def greeting(**kwargs):\n",
    "    print(kwargs)\n",
    "\n",
    "greeting(en='Hello', fr='Bonjour', de='Guten Tag')"
   ]
  },
  {
   "cell_type": "code",
   "execution_count": null,
   "metadata": {},
   "outputs": [],
   "source": []
  }
 ],
 "metadata": {
  "kernelspec": {
   "display_name": "Python 3",
   "language": "python",
   "name": "python3"
  },
  "language_info": {
   "codemirror_mode": {
    "name": "ipython",
    "version": 3
   },
   "file_extension": ".py",
   "mimetype": "text/x-python",
   "name": "python",
   "nbconvert_exporter": "python",
   "pygments_lexer": "ipython3",
   "version": "3.10.12"
  }
 },
 "nbformat": 4,
 "nbformat_minor": 2
}
