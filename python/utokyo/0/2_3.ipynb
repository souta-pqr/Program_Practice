{
 "cells": [
  {
   "cell_type": "code",
   "execution_count": 3,
   "metadata": {},
   "outputs": [],
   "source": [
    "def exception3(x, y, z):\n",
    "    if x == y:\n",
    "        return z\n",
    "    elif y == z:\n",
    "        return x\n",
    "    elif x == z:\n",
    "        return y"
   ]
  },
  {
   "cell_type": "code",
   "execution_count": 5,
   "metadata": {},
   "outputs": [
    {
     "name": "stdout",
     "output_type": "stream",
     "text": [
      "1\n",
      "2\n",
      "3\n"
     ]
    }
   ],
   "source": [
    "print(exception3(1,2,2))\n",
    "print(exception3(4,2,4))\n",
    "print(exception3(9,3,9))"
   ]
  },
  {
   "cell_type": "code",
   "execution_count": 14,
   "metadata": {},
   "outputs": [],
   "source": [
    "def exception9(a):\n",
    "    x = a[0] + a[1] + a[2]\n",
    "    y = a[3] + a[4] + a[5]\n",
    "    z = a[6] + a[7] + a[8]\n",
    "    if x==y:\n",
    "        return exception3(a[6], a[7], a[8])\n",
    "    elif x==z:\n",
    "        return exception3(a[3], a[4], a[5])\n",
    "    else:\n",
    "        return exception3(a[0], a[1], a[2])"
   ]
  },
  {
   "cell_type": "code",
   "execution_count": 15,
   "metadata": {},
   "outputs": [
    {
     "name": "stdout",
     "output_type": "stream",
     "text": [
      "1\n",
      "2\n",
      "3\n"
     ]
    }
   ],
   "source": [
    "print(exception9([1,2,2,2,2,2,2,2,2]))\n",
    "print(exception9([4,4,4,4,4,2,4,4,4]))\n",
    "print(exception9([9,9,9,9,9,9,9,9,3]))"
   ]
  },
  {
   "cell_type": "code",
   "execution_count": 18,
   "metadata": {},
   "outputs": [
    {
     "ename": "ValueError",
     "evalue": "not enough values to unpack (expected 2, got 0)",
     "output_type": "error",
     "traceback": [
      "\u001b[0;31m---------------------------------------------------------------------------\u001b[0m",
      "\u001b[0;31mValueError\u001b[0m                                Traceback (most recent call last)",
      "Cell \u001b[0;32mIn[18], line 1\u001b[0m\n\u001b[0;32m----> 1\u001b[0m H, W \u001b[38;5;241m=\u001b[39m \u001b[38;5;28mmap\u001b[39m(\u001b[38;5;28mint\u001b[39m, \u001b[38;5;28minput\u001b[39m()\u001b[38;5;241m.\u001b[39msplit())\n\u001b[1;32m      2\u001b[0m s \u001b[38;5;241m=\u001b[39m [\u001b[38;5;28mlist\u001b[39m(\u001b[38;5;28minput\u001b[39m()) \u001b[38;5;28;01mfor\u001b[39;00m _ \u001b[38;5;129;01min\u001b[39;00m \u001b[38;5;28mrange\u001b[39m(H)]\n\u001b[1;32m      4\u001b[0m dx \u001b[38;5;241m=\u001b[39m [\u001b[38;5;241m-\u001b[39m\u001b[38;5;241m1\u001b[39m, \u001b[38;5;241m0\u001b[39m, \u001b[38;5;241m1\u001b[39m, \u001b[38;5;241m-\u001b[39m\u001b[38;5;241m1\u001b[39m, \u001b[38;5;241m1\u001b[39m, \u001b[38;5;241m-\u001b[39m\u001b[38;5;241m1\u001b[39m, \u001b[38;5;241m0\u001b[39m, \u001b[38;5;241m1\u001b[39m]\n",
      "\u001b[0;31mValueError\u001b[0m: not enough values to unpack (expected 2, got 0)"
     ]
    }
   ],
   "source": [
    "H, W = map(int, input().split())\n",
    "s = [list(input()) for _ in range(H)]\n",
    "\n",
    "dx = [-1, 0, 1, -1, 1, -1, 0, 1]\n",
    "dy = [-1, -1, -1, 0, 0, 1, 1, 1]\n",
    "\n",
    "count = 0\n",
    "for i in range(H):\n",
    "    for j in range(W):\n",
    "        if i == 0 or i == H-1 or j == 0 or j == W-1:\n",
    "            continue\n",
    "        if s[i][j] == '.':\n",
    "            if all(s[i+dx[k]][j+dy[k]] == '#' for k in range(8)):\n",
    "                count += 1\n",
    "\n",
    "print(count)\n"
   ]
  },
  {
   "cell_type": "code",
   "execution_count": 20,
   "metadata": {},
   "outputs": [
    {
     "name": "stdout",
     "output_type": "stream",
     "text": [
      "positive or zero\n"
     ]
    }
   ],
   "source": [
    "x = 0\n",
    "sign = 'positive or zero' if x >= 0 else 'negative'\n",
    "print(sign)"
   ]
  }
 ],
 "metadata": {
  "kernelspec": {
   "display_name": "Python 3",
   "language": "python",
   "name": "python3"
  },
  "language_info": {
   "codemirror_mode": {
    "name": "ipython",
    "version": 3
   },
   "file_extension": ".py",
   "mimetype": "text/x-python",
   "name": "python",
   "nbconvert_exporter": "python",
   "pygments_lexer": "ipython3",
   "version": "3.10.12"
  }
 },
 "nbformat": 4,
 "nbformat_minor": 2
}
