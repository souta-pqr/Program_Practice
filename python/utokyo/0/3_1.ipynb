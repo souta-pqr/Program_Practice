{
 "cells": [
  {
   "cell_type": "code",
   "execution_count": 1,
   "metadata": {},
   "outputs": [],
   "source": [
    "def reverse_lookup(list1):\n",
    "    return {list1[i]: i for i in range(len(list1))}"
   ]
  },
  {
   "cell_type": "code",
   "execution_count": 3,
   "metadata": {},
   "outputs": [
    {
     "name": "stdout",
     "output_type": "stream",
     "text": [
      "True\n"
     ]
    }
   ],
   "source": [
    "print(reverse_lookup(['apple', 'pen', 'orange']) == {'apple': 0, 'orange': 2, 'pen': 1})"
   ]
  },
  {
   "cell_type": "code",
   "execution_count": 5,
   "metadata": {},
   "outputs": [
    {
     "name": "stdout",
     "output_type": "stream",
     "text": [
      "キーappleに対応する値 =  3\n",
      "{'apple': 3, 'pen': 5}\n",
      "キーorangeに対応する値 =  7\n",
      "{'apple': 3, 'pen': 5, 'orange': 7}\n"
     ]
    }
   ],
   "source": [
    "ppap = {'apple' : 3, 'pen' : 5}\n",
    "print(\"キーappleに対応する値 = \", ppap.setdefault(\"apple\", 7))\n",
    "print(ppap)\n",
    "print(\"キーorangeに対応する値 = \", ppap.setdefault(\"orange\", 7))\n",
    "print(ppap)"
   ]
  },
  {
   "cell_type": "code",
   "execution_count": 11,
   "metadata": {},
   "outputs": [
    {
     "name": "stdout",
     "output_type": "stream",
     "text": [
      "[1, 2, 3]\n",
      "[1, 2]\n",
      "[1, 2]\n"
     ]
    }
   ],
   "source": [
    "a = [1, 2, 3]\n",
    "b = a\n",
    "print(b)\n",
    "del a[2]\n",
    "print(a)\n",
    "print(b)"
   ]
  },
  {
   "cell_type": "code",
   "execution_count": 2,
   "metadata": {},
   "outputs": [],
   "source": [
    "def handle_collision(dic1, str1):\n",
    "   n = len(str1)\n",
    "   if n not in dic1:\n",
    "       dic1[n] = [str1]\n",
    "   else:\n",
    "       dic1[n].append(str1)"
   ]
  },
  {
   "cell_type": "code",
   "execution_count": 3,
   "metadata": {},
   "outputs": [
    {
     "name": "stdout",
     "output_type": "stream",
     "text": [
      "True\n"
     ]
    }
   ],
   "source": [
    "dic1_orig = {3: ['ham', 'egg'], 6: ['coffee', 'brandy'], 9: ['port wine'], 15: ['curried chicken']}\n",
    "dic1_result = {3: ['ham', 'egg', 'tea'], 6: ['coffee', 'brandy'], 9: ['port wine'], 15: ['curried chicken']}\n",
    "handle_collision(dic1_orig, 'tea')\n",
    "print(dic1_orig == dic1_result)"
   ]
  },
  {
   "cell_type": "code",
   "execution_count": 5,
   "metadata": {},
   "outputs": [],
   "source": [
    "def sum_lists(list1):\n",
    "    return sum([sum(i) for i in list1])"
   ]
  },
  {
   "cell_type": "code",
   "execution_count": 6,
   "metadata": {},
   "outputs": [
    {
     "name": "stdout",
     "output_type": "stream",
     "text": [
      "True\n"
     ]
    }
   ],
   "source": [
    "print(sum_lists([[20, 5], [6, 16, 14, 5], [16, 8, 16, 17, 14], [1], [5, 3, 5, 7]]) == 158)"
   ]
  },
  {
   "cell_type": "code",
   "execution_count": 7,
   "metadata": {},
   "outputs": [],
   "source": [
    "def sum_matrix(list1, list2):\n",
    "    return [[list1[i][j] + list2[i][j] for j in range(len(list1[i]))] for i in range(len(list1))]"
   ]
  },
  {
   "cell_type": "code",
   "execution_count": 9,
   "metadata": {},
   "outputs": [
    {
     "name": "stdout",
     "output_type": "stream",
     "text": [
      "True\n"
     ]
    }
   ],
   "source": [
    "print(sum_matrix([[1,2,3],[4,5,6],[7,8,9]], [[1,4,7],[2,5,8],[3,6,9]]) == [[2, 6, 10], [6, 10, 14], [10, 14, 18]])"
   ]
  },
  {
   "cell_type": "code",
   "execution_count": 11,
   "metadata": {},
   "outputs": [
    {
     "name": "stdout",
     "output_type": "stream",
     "text": [
      "0\n",
      "1\n",
      "2\n",
      "{'dog': 0, 'cat': 1, 'mouse': 2}\n"
     ]
    }
   ],
   "source": [
    "words = [\"dog\", \"cat\", \"mouse\"]\n",
    "mapping = {}\n",
    "for i, w in enumerate(words):\n",
    "    print(i)\n",
    "    mapping[w] = i\n",
    "print(mapping)"
   ]
  },
  {
   "cell_type": "code",
   "execution_count": 14,
   "metadata": {},
   "outputs": [],
   "source": [
    "def simple_match(str1, str2):\n",
    "    if str2 in str1:\n",
    "        return str1.index(str2)\n",
    "    else:\n",
    "        return -1\n"
   ]
  },
  {
   "cell_type": "code",
   "execution_count": 16,
   "metadata": {},
   "outputs": [
    {
     "name": "stdout",
     "output_type": "stream",
     "text": [
      "True\n",
      "True\n",
      "True\n",
      "True\n"
     ]
    }
   ],
   "source": [
    "print(simple_match('location', 'cat') == 2)\n",
    "print(simple_match('soccer', 'cat') == -1)\n",
    "print(simple_match('category', 'cat') == 0)\n",
    "print(simple_match('carpet', 'cat') == -1)"
   ]
  },
  {
   "cell_type": "code",
   "execution_count": 17,
   "metadata": {},
   "outputs": [],
   "source": [
    "from time import sleep"
   ]
  },
  {
   "cell_type": "code",
   "execution_count": 19,
   "metadata": {},
   "outputs": [
    {
     "name": "stdout",
     "output_type": "stream",
     "text": [
      "Year!\n",
      "Year!\n",
      "Year!\n",
      "Year!\n",
      "Year!\n",
      "Year!\n",
      "Year!\n",
      "Year!\n",
      "Year!\n",
      "Year!\n"
     ]
    }
   ],
   "source": [
    "a = 0\n",
    "while True:\n",
    "    if a == 10:\n",
    "        break\n",
    "    print('Year!')\n",
    "    sleep(1)\n",
    "    a += 1"
   ]
  },
  {
   "cell_type": "code",
   "execution_count": 21,
   "metadata": {},
   "outputs": [],
   "source": [
    "import re\n",
    "\n",
    "def collect_engwords(str_engsentence):\n",
    "    pattern = r'\\b\\w{3,}\\b'\n",
    "    engwords = re.findall(pattern, str_engsentence)\n",
    "    return engwords\n"
   ]
  },
  {
   "cell_type": "code",
   "execution_count": 23,
   "metadata": {},
   "outputs": [
    {
     "name": "stdout",
     "output_type": "stream",
     "text": [
      "True\n"
     ]
    }
   ],
   "source": [
    "print(collect_engwords('Unfortunately no, it requires something with a little more kick, plutonium.') == ['Unfortunately', 'requires',\n",
    "'something', 'with', 'little', 'more', 'kick', 'plutonium'])"
   ]
  },
  {
   "cell_type": "code",
   "execution_count": 27,
   "metadata": {},
   "outputs": [],
   "source": [
    "def swap_lists(list1, list2):\n",
    "    for i in range(1, len(list1), 2):\n",
    "        list1[i], list2[i] = list2[i], list1[i]\n",
    "    return list1, list2\n"
   ]
  },
  {
   "cell_type": "code",
   "execution_count": 28,
   "metadata": {},
   "outputs": [
    {
     "name": "stdout",
     "output_type": "stream",
     "text": [
      "True\n"
     ]
    }
   ],
   "source": [
    "print(swap_lists([1, 2, 3, 4, 5], ['a', 'b', 'c', 'd', 'e']) == ([1, 'b', 3, 'd', 5], ['a', 2, 'c', 4, 'e']))"
   ]
  },
  {
   "cell_type": "code",
   "execution_count": 29,
   "metadata": {},
   "outputs": [],
   "source": [
    "def count_capitalletters(str1):\n",
    "    count = 0\n",
    "    for char in str1:\n",
    "        if char.isupper():\n",
    "            count += 1\n",
    "    return count\n"
   ]
  },
  {
   "cell_type": "code",
   "execution_count": 30,
   "metadata": {},
   "outputs": [
    {
     "name": "stdout",
     "output_type": "stream",
     "text": [
      "True\n"
     ]
    }
   ],
   "source": [
    "print(count_capitalletters('Que Será, Será') == 3)"
   ]
  },
  {
   "cell_type": "code",
   "execution_count": 1,
   "metadata": {},
   "outputs": [],
   "source": [
    "def identify_codons(str_augc):\n",
    "    return [str_augc[i:i+3] for i in range(0, len(str_augc), 3)]\n"
   ]
  },
  {
   "cell_type": "code",
   "execution_count": 2,
   "metadata": {},
   "outputs": [
    {
     "name": "stdout",
     "output_type": "stream",
     "text": [
      "True\n"
     ]
    }
   ],
   "source": [
    "print(identify_codons('CCCCCGGCACCT') == ['CCC', 'CCG', 'GCA', 'CCT'])"
   ]
  },
  {
   "cell_type": "code",
   "execution_count": 3,
   "metadata": {},
   "outputs": [],
   "source": [
    "def add_commas(int1):\n",
    "    str1 = str(int1)\n",
    "    n = len(str1)\n",
    "    result = \"\"\n",
    "    for i in range(n):\n",
    "        result = str1[n - i - 1] + result\n",
    "        if i % 3 == 2 and i != n - 1:\n",
    "            result = \",\" + result\n",
    "    return result\n"
   ]
  },
  {
   "cell_type": "code",
   "execution_count": 5,
   "metadata": {},
   "outputs": [
    {
     "name": "stdout",
     "output_type": "stream",
     "text": [
      "True\n",
      "True\n",
      "True\n",
      "True\n"
     ]
    }
   ],
   "source": [
    "print(add_commas(14980) == '14,980')\n",
    "print(add_commas(3980) == '3,980')\n",
    "print(add_commas(298) == '298')\n",
    "print(add_commas(1000000) == '1,000,000')"
   ]
  },
  {
   "cell_type": "code",
   "execution_count": 6,
   "metadata": {},
   "outputs": [],
   "source": [
    "def sum_strings(list1):\n",
    "    str1 = \"\"\n",
    "    for i in range(len(list1)):\n",
    "        if i < len(list1) - 2:\n",
    "            str1 += str(list1[i]) + \", \"\n",
    "        elif i == len(list1) - 2:\n",
    "            str1 += str(list1[i]) + \" and \"\n",
    "        else:\n",
    "            str1 += str(list1[i])\n",
    "    return str1\n"
   ]
  },
  {
   "cell_type": "code",
   "execution_count": 7,
   "metadata": {},
   "outputs": [
    {
     "name": "stdout",
     "output_type": "stream",
     "text": [
      "True\n",
      "True\n",
      "True\n"
     ]
    }
   ],
   "source": [
    "print(sum_strings(['a', 'b', 'c', 'd']) == 'a, b, c and d')\n",
    "print(sum_strings(['a']) == 'a')\n",
    "print(sum_strings([1, 2, 3]) == '1, 2 and 3')"
   ]
  },
  {
   "cell_type": "code",
   "execution_count": 8,
   "metadata": {},
   "outputs": [],
   "source": [
    "def handle_collision2(dic1, str1):\n",
    "    n = len(str1)\n",
    "    if n not in dic1:\n",
    "        dic1[n] = str1\n",
    "    else:\n",
    "        for i in range(n+1, n+11):\n",
    "            i = i if i <= 10 else i % 10\n",
    "            if i not in dic1:\n",
    "                dic1[i] = str1\n",
    "                break\n"
   ]
  },
  {
   "cell_type": "code",
   "execution_count": null,
   "metadata": {},
   "outputs": [],
   "source": [
    "dic1_orig = {6: 'Styles', 4: 'Link', 7: 'Ackroyd'}\n",
    "handle_collision2(dic1_orig, 'Big Four')\n",
    "print(dic1_orig == {6: 'Styles', 4: 'Link', 7: 'Ackroyd', 8: 'Big Four'})\n",
    "dic1_orig = {6: 'Styles', 4: 'Link', 7: 'Ackroyd', 8: 'Big Four', 10: 'Blue Train', 9: 'End House'}\n",
    "handle_collision2(dic1_orig, 'Edgware')\n",
    "print(dic1_orig == {6: 'Styles', 4: 'Link', 7: 'Ackroyd', 8: 'Big Four', 10: 'Blue Train', 9: 'End House', 1: 'Edgware'})\n",
    "dic1_orig = {6: 'Styles', 4: 'Link', 7: 'Ackroyd', 8: 'Big Four', 10: 'Blue Train', 9: 'End House', 1: 'Edgware', 2: 'Orient', 3: 'Three Act', 5: 'Clouds'}\n",
    "handle_collision2(dic1_orig, 'ABC')\n",
    "print(dic1_orig == {6: 'Styles', 4: 'Link', 7: 'Ackroyd', 8: 'Big Four', 10: 'Blue Train', 9: 'End House', 1: 'Edgware', 2: 'Orient', 3: 'Three Act', 5: 'Clouds'})"
   ]
  }
 ],
 "metadata": {
  "kernelspec": {
   "display_name": "Python 3",
   "language": "python",
   "name": "python3"
  },
  "language_info": {
   "codemirror_mode": {
    "name": "ipython",
    "version": 3
   },
   "file_extension": ".py",
   "mimetype": "text/x-python",
   "name": "python",
   "nbconvert_exporter": "python",
   "pygments_lexer": "ipython3",
   "version": "3.10.12"
  }
 },
 "nbformat": 4,
 "nbformat_minor": 2
}
